{
 "cells": [
  {
   "cell_type": "code",
   "execution_count": 1,
   "metadata": {},
   "outputs": [
    {
     "name": "stdout",
     "output_type": "stream",
     "text": [
      "<pyspark.conf.SparkConf object at 0x10f8f7eb8>\n",
      "<pyspark.conf.SparkConf object at 0x10f8f7eb8>\n",
      "<SparkContext master=local[*] appName=My T40I10D100K>\n",
      "<class 'pyspark.ml.fpm.FPGrowth'>\n"
     ]
    }
   ],
   "source": [
    "from datetime import datetime\n",
    "\n",
    "import findspark\n",
    "findspark.init()\n",
    "\n",
    "import pyspark\n",
    "\n",
    "conf = pyspark.SparkConf()\n",
    "print(conf)\n",
    "conf.setMaster(\"local[*]\")\\\n",
    "    .setAppName(\"My T40I10D100K\")\\\n",
    "    .set(\"spark.driver.cores\", 8)\\\n",
    "    .set(\"spark.driver.memory\", \"32g\")\\\n",
    "    .set(\"spark.executor.cores\", 8)\\\n",
    "    .set(\"spark.executor.memory\" ,\"32g\")\\\n",
    "    .set(\"spark.executor.extraJavaOptions\" ,\"-XX:+UseG1GC\")\\\n",
    "    .set(\"spark.memory.storageFraction\", 0.8)\n",
    "print(conf)\n",
    "\n",
    "sc = pyspark.SparkContext(conf=conf)\n",
    "sc.setLogLevel(\"INFO\")\n",
    "print(sc)\n",
    "        \n",
    "from pyspark.ml.fpm import FPGrowth\n",
    "print(FPGrowth)"
   ]
  },
  {
   "cell_type": "code",
   "execution_count": 2,
   "metadata": {
    "collapsed": true
   },
   "outputs": [],
   "source": [
    "import csv\n",
    "row_index = 0\n",
    "avg_col_len = 0\n",
    "max_col_len = 0\n",
    "data= []\n",
    "with open('data/T40I10D100K.dat', newline='') as csvfile:\n",
    "  reader = csv.reader(csvfile, delimiter=' ', quotechar='|')\n",
    "  for row in reader:\n",
    "    array = [int(x) for x in row if x != '']\n",
    "    avg_col_len = avg_col_len + len(array)\n",
    "    if len(array) > max_col_len: max_col_len = len(array)\n",
    "    data.append((row_index, array))\n",
    "    row_index = row_index + 1\n",
    "# data"
   ]
  },
  {
   "cell_type": "code",
   "execution_count": 3,
   "metadata": {},
   "outputs": [
    {
     "data": {
      "text/plain": [
       "(100000, 39.60507, 77)"
      ]
     },
     "execution_count": 3,
     "metadata": {},
     "output_type": "execute_result"
    }
   ],
   "source": [
    "avg_col_len = avg_col_len / row_index\n",
    "# print(row_index, avg_col_len, max_col_len)\n",
    "# print(data)\n",
    "\n",
    "numSlices = 75\n",
    "data = sc.parallelize(data, numSlices=numSlices)\n",
    "\n",
    "params = [\"id\", \"items\"]\n",
    "\n",
    "from pyspark.sql import SQLContext\n",
    "sqlContext = SQLContext(sc)\n",
    "df = sqlContext.createDataFrame(data, params)\n",
    "df.cache()\n",
    "\n",
    "row_index, avg_col_len, max_col_len"
   ]
  },
  {
   "cell_type": "code",
   "execution_count": 4,
   "metadata": {},
   "outputs": [
    {
     "data": {
      "text/plain": [
       "FPGrowth_43aea880afe6dcae123b"
      ]
     },
     "execution_count": 4,
     "metadata": {},
     "output_type": "execute_result"
    }
   ],
   "source": [
    "minSupport = 0.0025\n",
    "minConfidence = 0.1\n",
    "numPartitions = 1\n",
    "\n",
    "start = datetime.now()\n",
    "\n",
    "fpGrowth = FPGrowth(itemsCol=\"items\", \n",
    "                    minSupport=minSupport, \n",
    "                    minConfidence=minConfidence, \n",
    "                    numPartitions=numPartitions)  \n",
    "\n",
    "model = fpGrowth.fit(df)\n",
    "\n",
    "model"
   ]
  },
  {
   "cell_type": "code",
   "execution_count": 5,
   "metadata": {},
   "outputs": [
    {
     "data": {
      "text/plain": [
       "7617884"
      ]
     },
     "execution_count": 5,
     "metadata": {},
     "output_type": "execute_result"
    }
   ],
   "source": [
    "# -- Count frequent itemsets.\n",
    "\n",
    "model.freqItemsets.count()"
   ]
  },
  {
   "cell_type": "code",
   "execution_count": 6,
   "metadata": {
    "collapsed": true
   },
   "outputs": [],
   "source": [
    "# -- Display frequent itemsets.\n",
    "\n",
    "# model.freqItemsets.show(5)"
   ]
  },
  {
   "cell_type": "code",
   "execution_count": 7,
   "metadata": {},
   "outputs": [
    {
     "data": {
      "text/plain": [
       "63949482"
      ]
     },
     "execution_count": 7,
     "metadata": {},
     "output_type": "execute_result"
    }
   ],
   "source": [
    "# -- Count generated association rules.\n",
    "\n",
    "model.associationRules.count()"
   ]
  },
  {
   "cell_type": "code",
   "execution_count": 8,
   "metadata": {
    "collapsed": true
   },
   "outputs": [],
   "source": [
    "# -- Display generated association rules.\n",
    "\n",
    "# model.associationRules.show(5)"
   ]
  },
  {
   "cell_type": "code",
   "execution_count": 9,
   "metadata": {
    "collapsed": true
   },
   "outputs": [],
   "source": [
    "# -- Count: transform examines the input items against all the association rules and summarize the\n",
    "# -- consequents as prediction\n",
    "\n",
    "# model.transform(df).count()"
   ]
  },
  {
   "cell_type": "code",
   "execution_count": 10,
   "metadata": {
    "collapsed": true
   },
   "outputs": [],
   "source": [
    "# -- transform examines the input items against all the association rules and summarize the\n",
    "# -- consequents as prediction\n",
    "\n",
    "# model.transform(df).show(5)"
   ]
  },
  {
   "cell_type": "code",
   "execution_count": 11,
   "metadata": {
    "collapsed": true
   },
   "outputs": [],
   "source": [
    "# sc.stop()"
   ]
  },
  {
   "cell_type": "code",
   "execution_count": 12,
   "metadata": {},
   "outputs": [
    {
     "data": {
      "text/plain": [
       "(0, 1, 21.55)"
      ]
     },
     "execution_count": 12,
     "metadata": {},
     "output_type": "execute_result"
    }
   ],
   "source": [
    "end = datetime.now()\n",
    "\n",
    "diff = end - start\n",
    "\n",
    "days, hours, minutes = diff.days, diff.seconds // 3600, diff.seconds % 3600 / 60.0\n",
    "\n",
    "days, hours, minutes"
   ]
  },
  {
   "cell_type": "code",
   "execution_count": null,
   "metadata": {
    "collapsed": true
   },
   "outputs": [],
   "source": []
  }
 ],
 "metadata": {
  "kernelspec": {
   "display_name": "Python 3",
   "language": "python",
   "name": "python3"
  },
  "language_info": {
   "codemirror_mode": {
    "name": "ipython",
    "version": 3
   },
   "file_extension": ".py",
   "mimetype": "text/x-python",
   "name": "python",
   "nbconvert_exporter": "python",
   "pygments_lexer": "ipython3",
   "version": "3.6.3"
  }
 },
 "nbformat": 4,
 "nbformat_minor": 2
}
