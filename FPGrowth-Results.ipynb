{
 "cells": [
  {
   "cell_type": "markdown",
   "metadata": {},
   "source": [
    "# FP Growth Results\n",
    "\n",
    "### of  [FPGrowth-Compute notebook](https://github.com/ptzagk/public/blob/master/FPGrowth-Compute.ipynb )\n",
    "\n",
    "- 1 machine (https://www.apple.com/lae/mac-pro/) with 64GB RAM, 1 processor Intel Xeon E5 with 8 cores "
   ]
  },
  {
   "cell_type": "code",
   "execution_count": 1,
   "metadata": {},
   "outputs": [],
   "source": [
    "results = [\n",
    "  { 'minSupport': 0.02,   'freqItemsets':    2293, 'associationRules':     3179, 'time': 2.8833  },\n",
    "  { 'minSupport': 0.01,   'freqItemsets':   65236, 'associationRules':   306703, 'time': 5.4666  },\n",
    "  { 'minSupport': 0.0075, 'freqItemsets':  496882, 'associationRules':  3976617, 'time': 17.4833 },\n",
    "  { 'minSupport': 0.005,  'freqItemsets': 1286037, 'associationRules':  9773024, 'time': 31.7666 },\n",
    "  { 'minSupport': 0.0033, 'freqItemsets': 4257162, 'associationRules': 35470856, 'time': 58.1333 },\n",
    "  { 'minSupport': 0.0025, 'freqItemsets': 7617884, 'associationRules': 63949482, 'time': 81.55   }\n",
    "]\n",
    "# results"
   ]
  },
  {
   "cell_type": "code",
   "execution_count": 2,
   "metadata": {},
   "outputs": [],
   "source": [
    "x = [i['minSupport'] for i in results]\n",
    "# x"
   ]
  },
  {
   "cell_type": "code",
   "execution_count": 3,
   "metadata": {},
   "outputs": [],
   "source": [
    "y = [i['time'] for i in results]\n",
    "# y"
   ]
  },
  {
   "cell_type": "code",
   "execution_count": 4,
   "metadata": {},
   "outputs": [
    {
     "data": {
      "image/png": "[encoded data removed]",
      "text/plain": [
       "<matplotlib.figure.Figure at 0x106a05780>"
      ]
     },
     "metadata": {},
     "output_type": "display_data"
    }
   ],
   "source": [
    "import matplotlib.pyplot as plt\n",
    "\n",
    "plt.figure(1)\n",
    "plt.title('T40I10D100K')\n",
    "plt.xlabel('Minimum Support')\n",
    "plt.ylabel('Time (min)')\n",
    "plt.plot(x, y)\n",
    "plt.grid(True)\n",
    "\n",
    "plt.show()"
   ]
  },
  {
   "cell_type": "code",
   "execution_count": null,
   "metadata": {
    "collapsed": true
   },
   "outputs": [],
   "source": []
  }
 ],
 "metadata": {
  "kernelspec": {
   "display_name": "Python 3",
   "language": "python",
   "name": "python3"
  },
  "language_info": {
   "codemirror_mode": {
    "name": "ipython",
    "version": 3
   },
   "file_extension": ".py",
   "mimetype": "text/x-python",
   "name": "python",
   "nbconvert_exporter": "python",
   "pygments_lexer": "ipython3",
   "version": "3.6.3"
  }
 },
 "nbformat": 4,
 "nbformat_minor": 2
}
